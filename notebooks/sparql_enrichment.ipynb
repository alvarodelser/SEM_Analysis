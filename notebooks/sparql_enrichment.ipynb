{
 "cells": [
  {
   "metadata": {},
   "cell_type": "code",
   "outputs": [],
   "execution_count": null,
   "source": [
    "from SPARQLWrapper import SPARQLWrapper, JSON\n",
    "import pandas as pd"
   ],
   "id": "b7bb33f318ee2b60"
  },
  {
   "metadata": {},
   "cell_type": "markdown",
   "source": "# 1 SPARQL WikiData Query",
   "id": "436e09056e5950f8"
  },
  {
   "metadata": {},
   "cell_type": "code",
   "source": [
    "\n",
    "\n",
    "# Load your dataframe from the CSV file\n",
    "df = pd.read_csv('activities_tc.csv')\n",
    "df['city'] = df['city'].apply(lambda x: x.split(',')[0].strip())\n",
    "\n",
    "# Define the SPARQL endpoint and the query\n",
    "sparql = SPARQLWrapper(\"https://query.wikidata.org/sparql\")\n",
    "\n",
    "# Define the SPARQL query to fetch data about cities and municipalities in Spain\n",
    "query = \"\"\"\n",
    "PREFIX rdfs: <http://www.w3.org/2000/01/rdf-schema#>\n",
    "PREFIX wikibase: <http://wikiba.se/ontology#>\n",
    "PREFIX wd: <http://www.wikidata.org/entity/>\n",
    "PREFIX wdt: <http://www.wikidata.org/prop/direct/>\n",
    "\n",
    "# Retrieve distinct municipalities and cities in Spain\n",
    "SELECT ?city ?cityLabel ?population ?loc WHERE {\n",
    "  { \n",
    "    # Match cities in Spain\n",
    "    ?city wdt:P31 wd:Q515 .         # Instance of a city\n",
    "    ?city wdt:P17 wd:Q29 .          # Located in Spain\n",
    "  } UNION {\n",
    "    # Match municipalities in Spain\n",
    "    ?city wdt:P31 wd:Q2074737 .     # Instance of a municipality\n",
    "    ?city wdt:P17 wd:Q29 .          # Located in Spain\n",
    "  }\n",
    "  \n",
    "  OPTIONAL { ?city wdt:P1082 ?population . }    # Get the population (optional)\n",
    "  OPTIONAL { ?city wdt:P625 ?loc . }            # Get the location (optional)\n",
    "  OPTIONAL { ?city rdfs:label ?cityLabel . }    # Get the label for the city/municipality\n",
    "  \n",
    "  FILTER (LANG(?cityLabel) = \"es\")              # Filter for Spanish labels\n",
    "}\n",
    "ORDER BY DESC(?population)\n",
    "\"\"\"\n",
    "\n",
    "# Set the query and request JSON results\n",
    "sparql.setQuery(query)\n",
    "sparql.setReturnFormat(JSON)\n",
    "\n",
    "# Execute the query and fetch results\n",
    "results = sparql.query().convert()\n",
    "\n",
    "# Process the results into a list of dictionaries\n",
    "cities_data = []\n",
    "for result in results[\"results\"][\"bindings\"]:\n",
    "    city_info = {\n",
    "        \"city\": result[\"city\"][\"value\"],\n",
    "        \"cityLabel\": result[\"cityLabel\"][\"value\"] if \"cityLabel\" in result else None,\n",
    "        \"population\": result[\"population\"][\"value\"] if \"population\" in result else None,\n",
    "        \"loc\": result[\"loc\"][\"value\"] if \"loc\" in result else None\n",
    "    }\n",
    "    cities_data.append(city_info)\n",
    "\n",
    "# Convert the list of dictionaries to a pandas DataFrame\n",
    "df_sparql = pd.DataFrame(cities_data)\n",
    "df['key'] = df.apply(lambda x: next((label for label in df_sparql['cityLabel'] if label in x['city']), None), axis=1)\n",
    "\n",
    "# Merge using the 'key' column where the city contains the cityLabel\n",
    "df_e = pd.merge(df, df_sparql, left_on=\"key\", right_on=\"cityLabel\", how=\"left\")\n",
    "# Print the number of matched rows (rows where there is non-null data from SPARQL results)\n",
    "matched_rows = df_e[df_e['cityLabel'].notnull()]\n",
    "unique_city_count = matched_rows['cityLabel'].nunique()\n",
    "print(f\"Number of matched cities: {unique_city_count}\")\n",
    "\n"
   ],
   "id": "e3ec51f5ce5745ae",
   "outputs": [],
   "execution_count": null
  }
 ],
 "metadata": {
  "kernelspec": {
   "display_name": "Python 3",
   "language": "python",
   "name": "python3"
  },
  "language_info": {
   "codemirror_mode": {
    "name": "ipython",
    "version": 2
   },
   "file_extension": ".py",
   "mimetype": "text/x-python",
   "name": "python",
   "nbconvert_exporter": "python",
   "pygments_lexer": "ipython2",
   "version": "2.7.6"
  }
 },
 "nbformat": 4,
 "nbformat_minor": 5
}
