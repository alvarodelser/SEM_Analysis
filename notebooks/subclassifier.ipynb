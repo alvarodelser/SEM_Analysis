{
 "cells": [
  {
   "metadata": {
    "ExecuteTime": {
     "end_time": "2024-10-06T15:17:16.669787Z",
     "start_time": "2024-10-06T15:16:42.206526Z"
    }
   },
   "cell_type": "code",
   "source": [
    "import pandas as pd\n",
    "from tqdm import tqdm\n",
    "import logging\n",
    "from transformers import pipeline\n"
   ],
   "id": "2912293a5c1905e0",
   "outputs": [],
   "execution_count": 1
  },
  {
   "metadata": {},
   "cell_type": "markdown",
   "source": "# 1 Subclassifier",
   "id": "6db179b58dc70d38"
  },
  {
   "metadata": {
    "ExecuteTime": {
     "end_time": "2024-10-06T15:58:19.656758Z",
     "start_time": "2024-10-06T15:43:27.731235Z"
    }
   },
   "cell_type": "code",
   "source": [
    "\n",
    "logging.basicConfig(level=logging.INFO)\n",
    "classifier = pipeline(\"zero-shot-classification\",\n",
    "                      model=\"facebook/bart-large-mnli\")\n",
    "\n",
    "\n",
    "# Subcategories for Road Safety Workshops\n",
    "road_safety_subcategory_dict = {\n",
    "    \"This road safety workshop is targeted at children or schools, aiming to teach traffic safety and traffic awareness from an early age.\": 'Schools',\n",
    "    \"This road safety workshop is designed for cyclists or alternative mobility users to improve their safety awareness and skills on the road.\": 'Cyclists',\n",
    "    \"This road safety workshop is directed at automobile drivers to enhance their knowledge of traffic laws and safe driving techniques.\": 'Drivers'\n",
    "}\n",
    "\n",
    "conference_subcategory_dict = {\n",
    "    \"This conference, workshop, or talk is designed for the general public to discuss mobility issues, raise awareness, and encourage sustainable practices.\": 'General Audience',\n",
    "    \"This conference, workshop, or talk is specifically targeted at children or schools, focusing on education and promoting safe and sustainable mobility among younger audiences.\": 'Children/Schools',\n",
    "    \"This conference, workshop, or talk is aimed at professionals or policymakers in the mobility sector, discussing regulations, innovations, or infrastructure planning for sustainable mobility.\": 'Professionals/Policymakers'\n",
    "}\n",
    "\n",
    "# Step 1: Read the activities.csv file (which contains the translated descriptions and prompts)\n",
    "prompt_df = pd.read_csv('../data/activities_t.csv')\n",
    "class_df = pd.read_csv('../data/classification_results.csv')\n",
    "\n",
    "class_df['ID'] = pd.to_numeric(class_df['ID'], errors='coerce')\n",
    "# Step 2: Add the 'prompt' column to class_df\n",
    "class_df['prompt'] = class_df['ID'].map(prompt_df.set_index('ID')['prompt'])\n",
    "\n",
    "road_safety_res = []\n",
    "conference_res = []\n",
    "# Step 2: Primary classification\n",
    "for i, activity in tqdm(class_df.iterrows(), total=len(class_df), desc=\"Classifying activities\"):\n",
    "    \n",
    "        \n",
    "        if activity['Road Safety Workshop'] >=0.15 :\n",
    "            # Perform subclassification for Road Safety Workshops\n",
    "            subclass_result = classifier(activity['prompt'], candidate_labels=list(road_safety_subcategory_dict.keys()))\n",
    "            top_subcategory = road_safety_subcategory_dict[subclass_result['labels'][0]]\n",
    "            top_subcategory_score = subclass_result['scores'][0]  # Get the score of the top subclass category\n",
    "            road_safety_res.append({\n",
    "            \"ID\": activity['ID'],\n",
    "            \"secondary_result\": subclass_result,\n",
    "            \"secondary_classification\": top_subcategory,\n",
    "            \"secondary_score\": top_subcategory_score  # Store the score for subclassification\n",
    "        })\n",
    "        if activity['Conference']  >= 0.35:\n",
    "            # Perform subclassification for Road Safety Workshops\n",
    "            subclass_result = classifier(activity['prompt'], candidate_labels=list(conference_subcategory_dict.keys()))\n",
    "            top_subcategory = conference_subcategory_dict[subclass_result['labels'][0]]\n",
    "            top_subcategory_score = subclass_result['scores'][0]  # Get the score of the top subclass category\n",
    "            conference_res.append({\n",
    "            \"ID\": activity['ID'],\n",
    "            \"secondary_result\": subclass_result,\n",
    "            \"secondary_classification\": top_subcategory,\n",
    "            \"secondary_score\": top_subcategory_score  # Store the score for subclassification\n",
    "        })\n",
    "        \n",
    "\n",
    "# Step 3: Save the classification results to a new CSV file\n",
    "road_safety_df = pd.DataFrame(road_safety_res)\n",
    "conference_df = pd.DataFrame(conference_res)\n",
    "road_safety_df.to_csv('../data/road_safety_subclassification.csv', index=False)\n",
    "conference_df.to_csv('../data/conference_subclassification.csv', index=False)\n"
   ],
   "id": "88948f6fdefe4163",
   "outputs": [
    {
     "name": "stderr",
     "output_type": "stream",
     "text": [
      "C:\\Users\\afontecha\\Desktop\\BikesForCities\\venv\\Lib\\site-packages\\transformers\\tokenization_utils_base.py:1601: FutureWarning: `clean_up_tokenization_spaces` was not set. It will be set to `True` by default. This behavior will be depracted in transformers v4.45, and will be then set to `False` by default. For more details check this issue: https://github.com/huggingface/transformers/issues/31884\n",
      "  warnings.warn(\n",
      "Classifying activities: 100%|██████████| 1039/1039 [14:50<00:00,  1.17it/s]\n"
     ]
    }
   ],
   "execution_count": 17
  },
  {
   "metadata": {},
   "cell_type": "code",
   "outputs": [],
   "execution_count": null,
   "source": "",
   "id": "b939d05aacedcfb5"
  }
 ],
 "metadata": {
  "kernelspec": {
   "display_name": "Python 3",
   "language": "python",
   "name": "python3"
  },
  "language_info": {
   "codemirror_mode": {
    "name": "ipython",
    "version": 2
   },
   "file_extension": ".py",
   "mimetype": "text/x-python",
   "name": "python",
   "nbconvert_exporter": "python",
   "pygments_lexer": "ipython2",
   "version": "2.7.6"
  }
 },
 "nbformat": 4,
 "nbformat_minor": 5
}
