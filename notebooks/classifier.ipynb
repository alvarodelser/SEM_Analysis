{
 "cells": [
  {
   "metadata": {},
   "cell_type": "code",
   "outputs": [],
   "execution_count": null,
   "source": [
    "from googletrans import Translator\n",
    "import pandas as pd\n",
    "from tqdm import tqdm\n",
    "import logging\n",
    "from transformers import pipeline\n"
   ],
   "id": "2912293a5c1905e0"
  },
  {
   "metadata": {},
   "cell_type": "markdown",
   "source": "# 1 Translation Pipeline",
   "id": "6db179b58dc70d38"
  },
  {
   "metadata": {},
   "cell_type": "code",
   "outputs": [],
   "execution_count": null,
   "source": [
    "\n",
    "\n",
    "# Initialize Google Translator\n",
    "translator = Translator()\n",
    "\n",
    "# Step 1: Load the CSV file\n",
    "df = pd.read_csv('../data/activities.csv')\n",
    "\n",
    "# Step 2: Create a new column 'prompt' by translating 'activity_name' and 'activity_description'\n",
    "prompts = []\n",
    "\n",
    "# Use tqdm to visualize progress\n",
    "for i, row in tqdm(df.iterrows(), total=len(df), desc=\"Translating and creating prompts\"):\n",
    "    try:\n",
    "        # Translate 'activity_name' and 'activity_description' to English\n",
    "        translated_name = translator.translate(row['activity_name'], dest='en').text\n",
    "        translated_desc = translator.translate(row['activity_description'], dest='en').text\n",
    "\n",
    "        # Combine them into the prompt\n",
    "        prompt = (f\"This is an event called '{translated_name}', part of a broader effort during Mobility Week \"\n",
    "                  f\"to promote sustainable mobility by local governments. Its complete description is: '{translated_desc}'\")\n",
    "        prompts.append(prompt)\n",
    "\n",
    "    except Exception as e:\n",
    "        # If any translation fails, log the error and use the original text\n",
    "        print(f\"Error translating row {i}: {e}\")\n",
    "        prompts.append(\n",
    "            f\"This is an event called '{row['activity_name']}', part of a broader effort during Mobility Week \"\n",
    "            f\"to promote sustainable mobility by local governments. Its complete description is: '{row['activity_description']}'\")\n",
    "\n",
    "# Step 3: Add the 'prompt' column to the DataFrame\n",
    "df['prompt'] = prompts\n",
    "\n",
    "# Step 4: Save the updated DataFrame to 'activities_t.csv'\n",
    "df.to_csv('../data/activities_t.csv', index=False)\n"
   ],
   "id": "e76e4ced898dea9"
  },
  {
   "metadata": {},
   "cell_type": "markdown",
   "source": "# 2 Initial 0-Shot Classifier",
   "id": "4c200d1c77610057"
  },
  {
   "metadata": {
    "ExecuteTime": {
     "end_time": "2024-10-04T12:08:13.191306Z",
     "start_time": "2024-10-04T09:43:10.308073Z"
    }
   },
   "cell_type": "code",
   "source": [
    "\n",
    "logging.basicConfig(level=logging.INFO)\n",
    "classifier = pipeline(\"zero-shot-classification\",\n",
    "                      model=\"facebook/bart-large-mnli\")\n",
    "# Primary classification categories (first level)\n",
    "primary_category_dict = {\n",
    "    \"This activity is a cycling march or bicycle route, part of a broader effort to promote sustainable mobility and an active lifestyle.\": 'Cycling Event',\n",
    "    \"This activity is a walking tour, guided tour, or organized walk\": 'Walking Tour',\n",
    "    \"This activity is a road safety course, driving workshop or road safety conference. It aims to educate participants on traffic safety and improve their driving or cycling skills.\": 'Road Safety Workshop',\n",
    "    \"This activity is a Car-Free Day event that involves traffic closures or restrictions to promote the use of sustainable mobility options\": 'Car-Free Day',\n",
    "    \"This activity is a Parking Day event where road area or parking spaces are transformed or occupied to promote revitalization of urban space.\": 'Parking Day',\n",
    "    \"This activity is an exhibition, fair, or display related to mobility, such as showcasing new public transport fleets, alternative vehicles, or urban planning solutions.\": 'Exhibition',\n",
    "    \"This activity is an inauguration or public presentation of new infrastructure, such as new bike lanes, pedestrian zones, or public spaces dedicated to sustainable mobility.\": 'Infrastructure Inauguration',\n",
    "    \"This activity is a conference, workshop, talk, or public presentation focused on mobility or related topics, aiming to raise awareness, educate, or discuss mobility practices.\":\"Conference\"\n",
    "}\n",
    "\n",
    "\n",
    "# Subcategories for Road Safety Workshops\n",
    "road_safety_subcategory_dict = {\n",
    "    \"This road safety workshop is targeted at children or schools, aiming to teach traffic safety and traffic awareness from an early age.\": 'Schools',\n",
    "    \"This road safety workshop is designed for cyclists or alternative mobility users to improve their safety awareness and skills on the road.\": 'Cyclists',\n",
    "    \"This road safety workshop is directed at automobile drivers to enhance their knowledge of traffic laws and safe driving techniques.\": 'Drivers'\n",
    "}\n",
    "\n",
    "conference_subcategory_dict = {\n",
    "    \"This conference, workshop, or talk is designed for the general public to discuss mobility issues, raise awareness, and encourage sustainable practices.\": 'General Audience',\n",
    "    \"This conference, workshop, or talk is specifically targeted at children or schools, focusing on education and promoting safe and sustainable mobility among younger audiences.\": 'Children/Schools',\n",
    "    \"This conference, workshop, or talk is aimed at professionals or policymakers in the mobility sector, discussing regulations, innovations, or infrastructure planning for sustainable mobility.\": 'Professionals/Policymakers'\n",
    "}\n",
    "\n",
    "# Step 1: Read the activities.csv file (which contains the translated descriptions and prompts)\n",
    "df = pd.read_csv('../data/activities_t.csv')\n",
    "\n",
    "# List to store classification results\n",
    "results = []\n",
    "\n",
    "# Step 2: Primary classification\n",
    "for i, activity in tqdm(df.iterrows(), total=len(df), desc=\"Classifying activities\"):\n",
    "    try:\n",
    "        # Use the 'prompt' column for classification\n",
    "        prompt = activity['prompt']\n",
    "        \n",
    "        # Perform zero-shot classification using the primary category dictionary\n",
    "        result = classifier(prompt, candidate_labels=list(primary_category_dict.keys()))\n",
    "        subclass_result = None\n",
    "        # Extract the top category and its score\n",
    "        top_primary_category = primary_category_dict[result['labels'][0]]\n",
    "        top_primary_score = result['scores'][0]  # Get the score of the top category\n",
    "\n",
    "        if top_primary_category == 'Road Safety Workshop':\n",
    "            # Perform subclassification for Road Safety Workshops\n",
    "            subclass_result = classifier(prompt, candidate_labels=list(road_safety_subcategory_dict.keys()))\n",
    "            top_subcategory = road_safety_subcategory_dict[subclass_result['labels'][0]]\n",
    "            top_subcategory_score = subclass_result['scores'][0]  # Get the score of the top subclass category\n",
    "        elif top_primary_category == 'Conference':\n",
    "            # Perform subclassification for Road Safety Workshops\n",
    "            subclass_result = classifier(prompt, candidate_labels=list(conference_subcategory_dict.keys()))\n",
    "            top_subcategory = conference_subcategory_dict[subclass_result['labels'][0]]\n",
    "            top_subcategory_score = subclass_result['scores'][0]  # Get the score of the top subclass category\n",
    "        else:\n",
    "            # For all other categories, no subclassification is needed\n",
    "            top_subcategory = None\n",
    "            top_subcategory_score = None\n",
    "\n",
    "        # Append classification result to results list, including scores\n",
    "        results.append({\n",
    "            \"ID\": activity['ID'],\n",
    "            \"city\": activity['city'],\n",
    "            \"activity_name\": activity['activity_name'],\n",
    "            \"activity_description\": activity['activity_description'],\n",
    "            \"primary_result\": result,\n",
    "            \"primary_classification\": top_primary_category,\n",
    "            \"primary_score\": top_primary_score,  # Store the score for primary classification\n",
    "            \"secondary_result\": subclass_result,\n",
    "            \"secondary_classification\": top_subcategory,\n",
    "            \"secondary_score\": top_subcategory_score  # Store the score for subclassification\n",
    "        })\n",
    "\n",
    "    except Exception as e:\n",
    "        print(f\"Error classifying activity: {activity}\\nError: {str(e)}\\n\")\n",
    "\n",
    "# Step 3: Save the classification results to a new CSV file\n",
    "res_df = pd.DataFrame(results)\n",
    "res_df.to_csv('../data/activities_tc.csv', index=False)\n",
    "\n",
    "print(\"Classification completed and saved to 'activities_tc.csv'.\")\n"
   ],
   "id": "88948f6fdefe4163",
   "outputs": [
    {
     "name": "stdout",
     "output_type": "stream",
     "text": [
      "WARNING:tensorflow:From C:\\Users\\afontecha\\Desktop\\BikesForCities\\venv\\Lib\\site-packages\\tf_keras\\src\\losses.py:2976: The name tf.losses.sparse_softmax_cross_entropy is deprecated. Please use tf.compat.v1.losses.sparse_softmax_cross_entropy instead.\n",
      "\n"
     ]
    },
    {
     "name": "stderr",
     "output_type": "stream",
     "text": [
      "WARNING:tensorflow:From C:\\Users\\afontecha\\Desktop\\BikesForCities\\venv\\Lib\\site-packages\\tf_keras\\src\\losses.py:2976: The name tf.losses.sparse_softmax_cross_entropy is deprecated. Please use tf.compat.v1.losses.sparse_softmax_cross_entropy instead.\n",
      "\n",
      "C:\\Users\\afontecha\\Desktop\\BikesForCities\\venv\\Lib\\site-packages\\transformers\\tokenization_utils_base.py:1601: FutureWarning: `clean_up_tokenization_spaces` was not set. It will be set to `True` by default. This behavior will be depracted in transformers v4.45, and will be then set to `False` by default. For more details check this issue: https://github.com/huggingface/transformers/issues/31884\n",
      "  warnings.warn(\n",
      "Classifying activities: 100%|██████████| 1039/1039 [2:24:28<00:00,  8.34s/it] \n"
     ]
    },
    {
     "name": "stdout",
     "output_type": "stream",
     "text": [
      "Classification completed and saved to 'activities_tc.csv'.\n"
     ]
    }
   ],
   "execution_count": 2
  }
 ],
 "metadata": {
  "kernelspec": {
   "display_name": "Python 3",
   "language": "python",
   "name": "python3"
  },
  "language_info": {
   "codemirror_mode": {
    "name": "ipython",
    "version": 2
   },
   "file_extension": ".py",
   "mimetype": "text/x-python",
   "name": "python",
   "nbconvert_exporter": "python",
   "pygments_lexer": "ipython2",
   "version": "2.7.6"
  }
 },
 "nbformat": 4,
 "nbformat_minor": 5
}
